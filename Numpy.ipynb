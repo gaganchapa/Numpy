{
  "nbformat": 4,
  "nbformat_minor": 0,
  "metadata": {
    "colab": {
      "name": "Numpy",
      "provenance": [],
      "collapsed_sections": [],
      "authorship_tag": "ABX9TyMW7vPTIvPNpcLr3PTXoFIi",
      "include_colab_link": true
    },
    "kernelspec": {
      "name": "python3",
      "display_name": "Python 3"
    },
    "language_info": {
      "name": "python"
    }
  },
  "cells": [
    {
      "cell_type": "markdown",
      "metadata": {
        "id": "view-in-github",
        "colab_type": "text"
      },
      "source": [
        "<a href=\"https://colab.research.google.com/github/gaganchapa/Numpy/blob/main/Numpy.ipynb\" target=\"_parent\"><img src=\"https://colab.research.google.com/assets/colab-badge.svg\" alt=\"Open In Colab\"/></a>"
      ]
    },
    {
      "cell_type": "markdown",
      "metadata": {
        "id": "-J7kOcp3fpqJ"
      },
      "source": [
        "**NUMPY** \n",
        "\n",
        "Full Form:  Numerical Python"
      ]
    },
    {
      "cell_type": "markdown",
      "metadata": {
        "id": "5oK9Tm9riPCL"
      },
      "source": [
        "The Basics"
      ]
    },
    {
      "cell_type": "code",
      "metadata": {
        "colab": {
          "base_uri": "https://localhost:8080/"
        },
        "id": "aa6E0ycDvmeZ",
        "outputId": "1576329b-733c-4056-f011-9924fea6f51f"
      },
      "source": [
        "import numpy as np # 0-d array\n",
        "\n",
        "arr = np.array(42)\n",
        "\n",
        "print(arr)"
      ],
      "execution_count": null,
      "outputs": [
        {
          "output_type": "stream",
          "name": "stdout",
          "text": [
            "42\n"
          ]
        }
      ]
    },
    {
      "cell_type": "code",
      "metadata": {
        "colab": {
          "base_uri": "https://localhost:8080/"
        },
        "id": "hSHXh_i2v0Gu",
        "outputId": "ad5404aa-453c-4dd1-ebd1-b1368936f739"
      },
      "source": [
        "import numpy as np # 1-D array\n",
        "\n",
        "arr = np.array([1, 2, 3, 4, 5])\n",
        "\n",
        "print(arr)"
      ],
      "execution_count": null,
      "outputs": [
        {
          "output_type": "stream",
          "name": "stdout",
          "text": [
            "[1 2 3 4 5]\n"
          ]
        }
      ]
    },
    {
      "cell_type": "code",
      "metadata": {
        "colab": {
          "base_uri": "https://localhost:8080/"
        },
        "id": "YfW1Srm4v8WF",
        "outputId": "863a5a53-2b02-4847-c999-860569d7a8e8"
      },
      "source": [
        "import numpy as np # 2-D array\n",
        "\n",
        "arr = np.array([[1, 2, 3], [4, 5, 6]])\n",
        "\n",
        "print(arr)"
      ],
      "execution_count": null,
      "outputs": [
        {
          "output_type": "stream",
          "name": "stdout",
          "text": [
            "[[1 2 3]\n",
            " [4 5 6]]\n"
          ]
        }
      ]
    },
    {
      "cell_type": "code",
      "metadata": {
        "colab": {
          "base_uri": "https://localhost:8080/"
        },
        "id": "iG08xZUywEnx",
        "outputId": "2422cfbb-c910-4d57-b0ee-d76280c3e5c9"
      },
      "source": [
        "import numpy as np # 3-D array\n",
        "\n",
        "arr = np.array([[[1, 2, 3], [4, 5, 6]], [[1, 2, 3], [4, 5, 6]]])\n",
        "\n",
        "print(arr)"
      ],
      "execution_count": null,
      "outputs": [
        {
          "output_type": "stream",
          "name": "stdout",
          "text": [
            "[[[1 2 3]\n",
            "  [4 5 6]]\n",
            "\n",
            " [[1 2 3]\n",
            "  [4 5 6]]]\n"
          ]
        }
      ]
    },
    {
      "cell_type": "code",
      "metadata": {
        "id": "_-KVEDnFHQ0O",
        "colab": {
          "base_uri": "https://localhost:8080/"
        },
        "outputId": "6c42614c-3b5a-4022-ac36-25cd0c50dc03"
      },
      "source": [
        "import numpy as np\n",
        "myarr = np.array([[3,6,37,7]],np.int64)\n",
        "myarr[0,1]"
      ],
      "execution_count": null,
      "outputs": [
        {
          "output_type": "execute_result",
          "data": {
            "text/plain": [
              "6"
            ]
          },
          "metadata": {},
          "execution_count": 6
        }
      ]
    },
    {
      "cell_type": "code",
      "metadata": {
        "colab": {
          "base_uri": "https://localhost:8080/"
        },
        "id": "s6YoiQV4icfz",
        "outputId": "c93693e9-34e7-4049-b7cb-2e070a4d3ae1"
      },
      "source": [
        "myarr[0]"
      ],
      "execution_count": null,
      "outputs": [
        {
          "output_type": "execute_result",
          "data": {
            "text/plain": [
              "array([ 3,  6, 37,  7])"
            ]
          },
          "metadata": {},
          "execution_count": 7
        }
      ]
    },
    {
      "cell_type": "code",
      "metadata": {
        "colab": {
          "base_uri": "https://localhost:8080/"
        },
        "id": "ArJ0Xu-tjhJh",
        "outputId": "9a6d9edf-1ca5-4d0f-e741-898d29113eb9"
      },
      "source": [
        "b = np.array([[9.0,8.0,7.0],[6.0,5.0,4.0]])\n",
        "print(b)"
      ],
      "execution_count": null,
      "outputs": [
        {
          "output_type": "stream",
          "name": "stdout",
          "text": [
            "[[9. 8. 7.]\n",
            " [6. 5. 4.]]\n"
          ]
        }
      ]
    },
    {
      "cell_type": "markdown",
      "metadata": {
        "id": "ALTLT-tPmIhH"
      },
      "source": [
        "Shape of the array"
      ]
    },
    {
      "cell_type": "code",
      "metadata": {
        "colab": {
          "base_uri": "https://localhost:8080/"
        },
        "id": "3wXq2rxMjm4a",
        "outputId": "29c2bf4a-f594-4dcc-c79c-48042d714313"
      },
      "source": [
        "myarr.shape # gives output of rows and colums of the array"
      ],
      "execution_count": null,
      "outputs": [
        {
          "output_type": "execute_result",
          "data": {
            "text/plain": [
              "(1, 4)"
            ]
          },
          "metadata": {},
          "execution_count": 9
        }
      ]
    },
    {
      "cell_type": "markdown",
      "metadata": {
        "id": "V0uYw_mzmZ09"
      },
      "source": [
        "Dimension of the Array"
      ]
    },
    {
      "cell_type": "markdown",
      "metadata": {
        "id": "MJeLmdTxlaO6"
      },
      "source": [
        "![image.png](data:image/png;base64,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)"
      ]
    },
    {
      "cell_type": "code",
      "metadata": {
        "colab": {
          "base_uri": "https://localhost:8080/"
        },
        "id": "1JJGRqgEkoD_",
        "outputId": "26c1a722-7ba1-4f66-8131-0c7c58318d14"
      },
      "source": [
        "myarr.ndim # gives the output of dimension of the array"
      ],
      "execution_count": null,
      "outputs": [
        {
          "output_type": "execute_result",
          "data": {
            "text/plain": [
              "2"
            ]
          },
          "metadata": {},
          "execution_count": 10
        }
      ]
    },
    {
      "cell_type": "code",
      "metadata": {
        "colab": {
          "base_uri": "https://localhost:8080/"
        },
        "id": "-jKXXJ-ZmoHy",
        "outputId": "bbfff037-3ae4-47e6-f200-c15a8bc07b03"
      },
      "source": [
        "myarr.dtype # gives the output of data type "
      ],
      "execution_count": null,
      "outputs": [
        {
          "output_type": "execute_result",
          "data": {
            "text/plain": [
              "dtype('int64')"
            ]
          },
          "metadata": {},
          "execution_count": 11
        }
      ]
    },
    {
      "cell_type": "markdown",
      "metadata": {
        "id": "aOrxVjxbrFNS"
      },
      "source": [
        "Changing value in array"
      ]
    },
    {
      "cell_type": "code",
      "metadata": {
        "colab": {
          "base_uri": "https://localhost:8080/"
        },
        "id": "5ka_qCSinKKH",
        "outputId": "e437b4c2-82a1-443e-8a97-f9bc77ea7e7b"
      },
      "source": [
        "myarr[0,1] = 45 # to change any value in array\n",
        "myarr"
      ],
      "execution_count": null,
      "outputs": [
        {
          "output_type": "execute_result",
          "data": {
            "text/plain": [
              "array([[ 3, 45, 37,  7]])"
            ]
          },
          "metadata": {},
          "execution_count": 12
        }
      ]
    },
    {
      "cell_type": "code",
      "metadata": {
        "colab": {
          "base_uri": "https://localhost:8080/"
        },
        "id": "thHEoVYRsDOD",
        "outputId": "5d5cfaaa-740c-498e-91af-f5ae84f37a8d"
      },
      "source": [
        "myarr[0,1] # accessing any element in the array"
      ],
      "execution_count": null,
      "outputs": [
        {
          "output_type": "execute_result",
          "data": {
            "text/plain": [
              "45"
            ]
          },
          "metadata": {},
          "execution_count": 15
        }
      ]
    },
    {
      "cell_type": "code",
      "metadata": {
        "colab": {
          "base_uri": "https://localhost:8080/"
        },
        "id": "oVWA3yG-sXKf",
        "outputId": "31644a1e-c10d-4a23-dab1-0011f7b0b62a"
      },
      "source": [
        "a = np.array([[1,2,3,4,5,6,7],[8,9,10,11,12,13,14]])\n",
        "print(a)"
      ],
      "execution_count": null,
      "outputs": [
        {
          "output_type": "stream",
          "name": "stdout",
          "text": [
            "[[ 1  2  3  4  5  6  7]\n",
            " [ 8  9 10 11 12 13 14]]\n"
          ]
        }
      ]
    },
    {
      "cell_type": "code",
      "metadata": {
        "colab": {
          "base_uri": "https://localhost:8080/"
        },
        "id": "bIq9Sb_mseWJ",
        "outputId": "ee09ae3f-f79f-40ae-cf88-8e71870e2f18"
      },
      "source": [
        "# Get a specific row \n",
        "a[0, :]"
      ],
      "execution_count": null,
      "outputs": [
        {
          "output_type": "execute_result",
          "data": {
            "text/plain": [
              "array([1, 2, 3, 4, 5, 6, 7])"
            ]
          },
          "metadata": {},
          "execution_count": 17
        }
      ]
    },
    {
      "cell_type": "code",
      "metadata": {
        "colab": {
          "base_uri": "https://localhost:8080/"
        },
        "id": "XOffZqw6sjH3",
        "outputId": "c5a48424-7b41-4566-c904-b9ead0e600a8"
      },
      "source": [
        "# Get a specific column\n",
        "a[:, 2]"
      ],
      "execution_count": null,
      "outputs": [
        {
          "output_type": "execute_result",
          "data": {
            "text/plain": [
              "array([ 3, 10])"
            ]
          },
          "metadata": {},
          "execution_count": 18
        }
      ]
    },
    {
      "cell_type": "code",
      "metadata": {
        "colab": {
          "base_uri": "https://localhost:8080/"
        },
        "id": "MrzFvpOpsmu9",
        "outputId": "651f4b63-9719-4bea-8080-0b464275080c"
      },
      "source": [
        "# Getting a little more fancy [startindex:endindex:stepsize]\n",
        "a[0, 1:-1:2]"
      ],
      "execution_count": null,
      "outputs": [
        {
          "output_type": "execute_result",
          "data": {
            "text/plain": [
              "array([2, 4, 6])"
            ]
          },
          "metadata": {},
          "execution_count": 19
        }
      ]
    },
    {
      "cell_type": "code",
      "metadata": {
        "colab": {
          "base_uri": "https://localhost:8080/"
        },
        "id": "cA7DzX96tmcQ",
        "outputId": "104feb87-debf-4e1b-eed5-30062af852c0"
      },
      "source": [
        "b = np.array([[[1,2],[3,4]],[[5,6],[7,8]]]) # 3d array\n",
        "print(b)"
      ],
      "execution_count": null,
      "outputs": [
        {
          "output_type": "stream",
          "name": "stdout",
          "text": [
            "[[[1 2]\n",
            "  [3 4]]\n",
            "\n",
            " [[5 6]\n",
            "  [7 8]]]\n"
          ]
        }
      ]
    },
    {
      "cell_type": "code",
      "metadata": {
        "colab": {
          "base_uri": "https://localhost:8080/"
        },
        "id": "WTv2Lcpl0JRd",
        "outputId": "0f2af919-30f7-4453-805b-e80ed1164e16"
      },
      "source": [
        "listarray = np.array([[1,2,3],[5,8,5],[0,3,1]])\n",
        "listarray"
      ],
      "execution_count": null,
      "outputs": [
        {
          "output_type": "execute_result",
          "data": {
            "text/plain": [
              "array([[1, 2, 3],\n",
              "       [5, 8, 5],\n",
              "       [0, 3, 1]])"
            ]
          },
          "metadata": {},
          "execution_count": 33
        }
      ]
    },
    {
      "cell_type": "code",
      "metadata": {
        "colab": {
          "base_uri": "https://localhost:8080/"
        },
        "id": "acwHdCIa0i4S",
        "outputId": "19e9dc29-0497-455a-b22d-4bd6ff941f66"
      },
      "source": [
        "zeroes = np.zeros((2,5)) # all of  0 matrix\n",
        "zeroes"
      ],
      "execution_count": null,
      "outputs": [
        {
          "output_type": "execute_result",
          "data": {
            "text/plain": [
              "array([[0., 0., 0., 0., 0.],\n",
              "       [0., 0., 0., 0., 0.]])"
            ]
          },
          "metadata": {},
          "execution_count": 35
        }
      ]
    },
    {
      "cell_type": "code",
      "metadata": {
        "colab": {
          "base_uri": "https://localhost:8080/"
        },
        "id": "qmu05fIE1EHp",
        "outputId": "20b537bb-02dc-460d-e232-a57d97d58760"
      },
      "source": [
        "# All 1s matrix\n",
        "ones = np.ones((4,2,2), dtype='int32')\n",
        "ones"
      ],
      "execution_count": null,
      "outputs": [
        {
          "output_type": "execute_result",
          "data": {
            "text/plain": [
              "array([[[1, 1],\n",
              "        [1, 1]],\n",
              "\n",
              "       [[1, 1],\n",
              "        [1, 1]],\n",
              "\n",
              "       [[1, 1],\n",
              "        [1, 1]],\n",
              "\n",
              "       [[1, 1],\n",
              "        [1, 1]]], dtype=int32)"
            ]
          },
          "metadata": {},
          "execution_count": 38
        }
      ]
    },
    {
      "cell_type": "code",
      "metadata": {
        "colab": {
          "base_uri": "https://localhost:8080/"
        },
        "id": "07FVsb1t1Qy5",
        "outputId": "52bd7cf0-ee61-4149-df82-45d9037f2c77"
      },
      "source": [
        "arrange = np.arange(15) # gives the output of array which ranges from 0 to 14(ie..15-1)\n",
        "arrange"
      ],
      "execution_count": null,
      "outputs": [
        {
          "output_type": "execute_result",
          "data": {
            "text/plain": [
              "array([ 0,  1,  2,  3,  4,  5,  6,  7,  8,  9, 10, 11, 12, 13, 14])"
            ]
          },
          "metadata": {},
          "execution_count": 40
        }
      ]
    },
    {
      "cell_type": "code",
      "metadata": {
        "colab": {
          "base_uri": "https://localhost:8080/"
        },
        "id": "eX4v8FQO1yF5",
        "outputId": "b9abf38e-44c2-48c7-8457-d1c45997eca6"
      },
      "source": [
        "space = np.linspace(1,50,10) # here (from,To,variable_Size) # it gives the output of *from*number to *To* number with the array size of * variable_Size*.\n",
        "space"
      ],
      "execution_count": null,
      "outputs": [
        {
          "output_type": "execute_result",
          "data": {
            "text/plain": [
              "array([ 1.        ,  6.44444444, 11.88888889, 17.33333333, 22.77777778,\n",
              "       28.22222222, 33.66666667, 39.11111111, 44.55555556, 50.        ])"
            ]
          },
          "metadata": {},
          "execution_count": 41
        }
      ]
    },
    {
      "cell_type": "code",
      "metadata": {
        "colab": {
          "base_uri": "https://localhost:8080/"
        },
        "id": "9mdXe0_Z2sCu",
        "outputId": "557fcdee-54a8-41dc-9d07-aca5de2d5393"
      },
      "source": [
        "emp = np.empty((4,6)) #gives the output of Random nubers.\n",
        "emp"
      ],
      "execution_count": null,
      "outputs": [
        {
          "output_type": "execute_result",
          "data": {
            "text/plain": [
              "array([[4.68167898e-310, 7.01573217e-322, 0.00000000e+000,\n",
              "        0.00000000e+000, 0.00000000e+000, 3.16251369e+180],\n",
              "       [1.05776693e-153, 6.03461190e+151, 9.42228896e-096,\n",
              "        1.67772392e+243, 1.16466606e-028, 4.90900643e+252],\n",
              "       [1.94918511e-153, 3.00833776e+151, 9.03292974e+271,\n",
              "        6.96411098e+252, 5.49740424e-095, 3.16251369e+180],\n",
              "       [3.65588338e+233, 8.61882260e+183, 2.59050147e-144,\n",
              "        1.16442250e-028, 6.79769037e-310, 0.00000000e+000]])"
            ]
          },
          "metadata": {},
          "execution_count": 42
        }
      ]
    },
    {
      "cell_type": "code",
      "metadata": {
        "colab": {
          "base_uri": "https://localhost:8080/"
        },
        "id": "kpUaPwPH3Bzp",
        "outputId": "0c75d580-8ec4-4f1b-9f49-90c9bf086131"
      },
      "source": [
        "emp_like = np.empty_like(space) # Return's a new array with the same shape and type as a given array.\n",
        "emp_like"
      ],
      "execution_count": null,
      "outputs": [
        {
          "output_type": "execute_result",
          "data": {
            "text/plain": [
              "array([ 1.        ,  6.44444444, 11.88888889, 17.33333333, 22.77777778,\n",
              "       28.22222222, 33.66666667, 39.11111111, 44.55555556, 50.        ])"
            ]
          },
          "metadata": {},
          "execution_count": 43
        }
      ]
    },
    {
      "cell_type": "code",
      "metadata": {
        "colab": {
          "base_uri": "https://localhost:8080/"
        },
        "id": "vMu9uDJADcxS",
        "outputId": "24369aa6-ffa5-43de-bfa5-1f2f928438ce"
      },
      "source": [
        "ide = np.identity(4)  #gives 4 X 4 identity matrix\n",
        "ide "
      ],
      "execution_count": null,
      "outputs": [
        {
          "output_type": "execute_result",
          "data": {
            "text/plain": [
              "array([[1., 0., 0., 0.],\n",
              "       [0., 1., 0., 0.],\n",
              "       [0., 0., 1., 0.],\n",
              "       [0., 0., 0., 1.]])"
            ]
          },
          "metadata": {},
          "execution_count": 45
        }
      ]
    },
    {
      "cell_type": "code",
      "metadata": {
        "colab": {
          "base_uri": "https://localhost:8080/"
        },
        "id": "6imzXJLLGR9G",
        "outputId": "17638f15-0108-4754-884d-e5f70e4c4de9"
      },
      "source": [
        "arr = np.arange(99)\n",
        "arr"
      ],
      "execution_count": null,
      "outputs": [
        {
          "output_type": "execute_result",
          "data": {
            "text/plain": [
              "array([ 0,  1,  2,  3,  4,  5,  6,  7,  8,  9, 10, 11, 12, 13, 14, 15, 16,\n",
              "       17, 18, 19, 20, 21, 22, 23, 24, 25, 26, 27, 28, 29, 30, 31, 32, 33,\n",
              "       34, 35, 36, 37, 38, 39, 40, 41, 42, 43, 44, 45, 46, 47, 48, 49, 50,\n",
              "       51, 52, 53, 54, 55, 56, 57, 58, 59, 60, 61, 62, 63, 64, 65, 66, 67,\n",
              "       68, 69, 70, 71, 72, 73, 74, 75, 76, 77, 78, 79, 80, 81, 82, 83, 84,\n",
              "       85, 86, 87, 88, 89, 90, 91, 92, 93, 94, 95, 96, 97, 98])"
            ]
          },
          "metadata": {},
          "execution_count": 46
        }
      ]
    },
    {
      "cell_type": "code",
      "metadata": {
        "colab": {
          "base_uri": "https://localhost:8080/"
        },
        "id": "-gZkbvteGrVq",
        "outputId": "9cb9bfad-5757-4ee5-f2d7-55f25410cc8f"
      },
      "source": [
        "arr.reshape(3,33) # reshapes the array reshape(a,b) ie.. a = how many rows to split , b = at which many variable(33-1) to reshape \n",
        "                                      "
      ],
      "execution_count": null,
      "outputs": [
        {
          "output_type": "execute_result",
          "data": {
            "text/plain": [
              "array([[ 0,  1,  2,  3,  4,  5,  6,  7,  8,  9, 10, 11, 12, 13, 14, 15,\n",
              "        16, 17, 18, 19, 20, 21, 22, 23, 24, 25, 26, 27, 28, 29, 30, 31,\n",
              "        32],\n",
              "       [33, 34, 35, 36, 37, 38, 39, 40, 41, 42, 43, 44, 45, 46, 47, 48,\n",
              "        49, 50, 51, 52, 53, 54, 55, 56, 57, 58, 59, 60, 61, 62, 63, 64,\n",
              "        65],\n",
              "       [66, 67, 68, 69, 70, 71, 72, 73, 74, 75, 76, 77, 78, 79, 80, 81,\n",
              "        82, 83, 84, 85, 86, 87, 88, 89, 90, 91, 92, 93, 94, 95, 96, 97,\n",
              "        98]])"
            ]
          },
          "metadata": {},
          "execution_count": 48
        }
      ]
    },
    {
      "cell_type": "code",
      "metadata": {
        "colab": {
          "base_uri": "https://localhost:8080/"
        },
        "id": "BYKqvA0bIeLg",
        "outputId": "24d04166-6c22-4a8e-f8f2-bcafa40da86a"
      },
      "source": [
        "x = np.array([[1, 3, 5], [11, 35, 56]])  # convert's 2d/3d array into 1d array\n",
        "y=np.ravel(x)  \n",
        "y  "
      ],
      "execution_count": null,
      "outputs": [
        {
          "output_type": "execute_result",
          "data": {
            "text/plain": [
              "array([ 1,  3,  5, 11, 35, 56])"
            ]
          },
          "metadata": {},
          "execution_count": 52
        }
      ]
    },
    {
      "cell_type": "markdown",
      "metadata": {
        "id": "LrrTq3zjJM-H"
      },
      "source": [
        "Numpy Axis\n",
        "\n"
      ]
    },
    {
      "cell_type": "markdown",
      "metadata": {
        "id": "xN17VZI8K7nS"
      },
      "source": [
        "axis 1\n",
        "-------->\n",
        "\n",
        "[ 1 2 3]   | \n",
        "\n",
        "[4 5 6 ]   |  axis 0\n",
        "\n",
        "[7 1 0 ]   v"
      ]
    },
    {
      "cell_type": "code",
      "metadata": {
        "colab": {
          "base_uri": "https://localhost:8080/"
        },
        "id": "K64uMkO8Iu6V",
        "outputId": "473905a6-ada4-4bd9-fbd4-a3c8c86fc129"
      },
      "source": [
        "x = [[1,2,3],[4,5,6],[7,1,0]]\n",
        "ar = np.array(x)\n",
        "ar"
      ],
      "execution_count": null,
      "outputs": [
        {
          "output_type": "execute_result",
          "data": {
            "text/plain": [
              "array([[1, 2, 3],\n",
              "       [4, 5, 6],\n",
              "       [7, 1, 0]])"
            ]
          },
          "metadata": {},
          "execution_count": 53
        }
      ]
    },
    {
      "cell_type": "code",
      "metadata": {
        "colab": {
          "base_uri": "https://localhost:8080/"
        },
        "id": "l-50lEBbMgg8",
        "outputId": "59925e63-0673-437d-c609-a8373f7650b1"
      },
      "source": [
        "ar.sum(axis = 0) #gives the sum of axis 0(ie.. 1+4+7 , 2+5+1 , 3+6+0)"
      ],
      "execution_count": null,
      "outputs": [
        {
          "output_type": "execute_result",
          "data": {
            "text/plain": [
              "array([12,  8,  9])"
            ]
          },
          "metadata": {},
          "execution_count": 54
        }
      ]
    },
    {
      "cell_type": "code",
      "metadata": {
        "colab": {
          "base_uri": "https://localhost:8080/"
        },
        "id": "87YKfN9tM8dS",
        "outputId": "9e11cddd-0406-4e2e-ec1b-fdedfaeb319a"
      },
      "source": [
        "ar.T # for converting rows to colums (transpose) of the array."
      ],
      "execution_count": null,
      "outputs": [
        {
          "output_type": "execute_result",
          "data": {
            "text/plain": [
              "array([[1, 4, 7],\n",
              "       [2, 5, 1],\n",
              "       [3, 6, 0]])"
            ]
          },
          "metadata": {},
          "execution_count": 55
        }
      ]
    },
    {
      "cell_type": "code",
      "metadata": {
        "colab": {
          "base_uri": "https://localhost:8080/"
        },
        "id": "txkHnDmDNMO5",
        "outputId": "9786c34f-76aa-4ebb-f6d7-9fdd5afb1d42"
      },
      "source": [
        "for item in ar.flat:   # to print all items in variables \n",
        "  print(item)\n"
      ],
      "execution_count": null,
      "outputs": [
        {
          "output_type": "stream",
          "name": "stdout",
          "text": [
            "1\n",
            "2\n",
            "3\n",
            "4\n",
            "5\n",
            "6\n",
            "7\n",
            "1\n",
            "0\n"
          ]
        }
      ]
    },
    {
      "cell_type": "code",
      "metadata": {
        "colab": {
          "base_uri": "https://localhost:8080/"
        },
        "id": "_k_VSLkWNv_B",
        "outputId": "80e4440a-9095-49cf-d6b7-b1a6c7f0753d"
      },
      "source": [
        "one = np.array([1,3,4,634,2]) # to find the maximum number in the array\n",
        "one.argmax()"
      ],
      "execution_count": null,
      "outputs": [
        {
          "output_type": "execute_result",
          "data": {
            "text/plain": [
              "3"
            ]
          },
          "metadata": {},
          "execution_count": 59
        }
      ]
    },
    {
      "cell_type": "code",
      "metadata": {
        "colab": {
          "base_uri": "https://localhost:8080/"
        },
        "id": "b4uZZeqoOJVX",
        "outputId": "2f43bbc8-9e40-49bb-f7c6-ade60a915a4f"
      },
      "source": [
        "one.argmin()   # to find the minimum number in the array"
      ],
      "execution_count": null,
      "outputs": [
        {
          "output_type": "execute_result",
          "data": {
            "text/plain": [
              "0"
            ]
          },
          "metadata": {},
          "execution_count": 60
        }
      ]
    },
    {
      "cell_type": "code",
      "metadata": {
        "colab": {
          "base_uri": "https://localhost:8080/"
        },
        "id": "TWLhH5n2OV5t",
        "outputId": "d2c327a6-7a34-4bbe-e15d-f58a794466df"
      },
      "source": [
        "one.argsort() # to find the ascending number of the array  "
      ],
      "execution_count": null,
      "outputs": [
        {
          "output_type": "execute_result",
          "data": {
            "text/plain": [
              "array([0, 4, 1, 2, 3])"
            ]
          },
          "metadata": {},
          "execution_count": 61
        }
      ]
    },
    {
      "cell_type": "code",
      "metadata": {
        "colab": {
          "base_uri": "https://localhost:8080/"
        },
        "id": "yac-JZkZOliO",
        "outputId": "0faa6f90-7931-4b40-e8b9-829ebc7a4ac6"
      },
      "source": [
        "ar.argmax(axis=0) # finds the output of where the maximum number is in the array axis = 0 (ie.. 2 - at the second placethe maximum number is located according to the axis0 )  "
      ],
      "execution_count": null,
      "outputs": [
        {
          "output_type": "execute_result",
          "data": {
            "text/plain": [
              "array([2, 1, 1])"
            ]
          },
          "metadata": {},
          "execution_count": 62
        }
      ]
    },
    {
      "cell_type": "code",
      "metadata": {
        "colab": {
          "base_uri": "https://localhost:8080/"
        },
        "id": "FJBP9HTXPwVe",
        "outputId": "ee5f3a23-34c6-4ed6-c7d6-063b7c5ef89c"
      },
      "source": [
        "ar.argmin(axis=0) # same as above but this finds minimum value of axis 0"
      ],
      "execution_count": null,
      "outputs": [
        {
          "output_type": "execute_result",
          "data": {
            "text/plain": [
              "array([0, 2, 2])"
            ]
          },
          "metadata": {},
          "execution_count": 66
        }
      ]
    },
    {
      "cell_type": "code",
      "metadata": {
        "colab": {
          "base_uri": "https://localhost:8080/"
        },
        "id": "DhI9i1qkQRl7",
        "outputId": "127ec630-2ae4-463b-af92-a874c5926dce"
      },
      "source": [
        "np.sqrt(ar) #finds the square root of the array"
      ],
      "execution_count": null,
      "outputs": [
        {
          "output_type": "execute_result",
          "data": {
            "text/plain": [
              "array([[1.        , 1.41421356, 1.73205081],\n",
              "       [2.        , 2.23606798, 2.44948974],\n",
              "       [2.64575131, 1.        , 0.        ]])"
            ]
          },
          "metadata": {},
          "execution_count": 67
        }
      ]
    },
    {
      "cell_type": "code",
      "metadata": {
        "id": "6kiqxV7cQqG-",
        "colab": {
          "base_uri": "https://localhost:8080/"
        },
        "outputId": "abee4870-45c1-4a2b-b999-10379c89ea9e"
      },
      "source": [
        "import numpy as np\n",
        "x = [[1,2,4],[4,3,6],[2,1,0]]\n",
        "ar2 = np.array(x)\n",
        "ar2"
      ],
      "execution_count": null,
      "outputs": [
        {
          "output_type": "execute_result",
          "data": {
            "text/plain": [
              "array([[1, 2, 4],\n",
              "       [4, 3, 6],\n",
              "       [2, 1, 0]])"
            ]
          },
          "metadata": {},
          "execution_count": 11
        }
      ]
    },
    {
      "cell_type": "code",
      "source": [
        "ar * ar2 # multiplication of two matrices"
      ],
      "metadata": {
        "colab": {
          "base_uri": "https://localhost:8080/"
        },
        "id": "m7iLm5s2vGMx",
        "outputId": "90b05ad1-2ba1-44a6-e6ea-a6d07a1c7408"
      },
      "execution_count": null,
      "outputs": [
        {
          "output_type": "execute_result",
          "data": {
            "text/plain": [
              "array([[ 1,  4, 12],\n",
              "       [16, 15, 36],\n",
              "       [14,  1,  0]])"
            ]
          },
          "metadata": {},
          "execution_count": 12
        }
      ]
    },
    {
      "cell_type": "code",
      "source": [
        "ar"
      ],
      "metadata": {
        "colab": {
          "base_uri": "https://localhost:8080/"
        },
        "id": "tjtrvsFDvtj8",
        "outputId": "956f51c4-3529-42ff-8e64-586dc0fa62e3"
      },
      "execution_count": null,
      "outputs": [
        {
          "output_type": "execute_result",
          "data": {
            "text/plain": [
              "array([[1, 2, 3],\n",
              "       [4, 5, 6],\n",
              "       [7, 1, 0]])"
            ]
          },
          "metadata": {},
          "execution_count": 14
        }
      ]
    },
    {
      "cell_type": "code",
      "source": [
        "ar.max() # gives Maximum value of the Matrix "
      ],
      "metadata": {
        "colab": {
          "base_uri": "https://localhost:8080/"
        },
        "id": "pqAVuDB0vilw",
        "outputId": "dda1e385-5cb3-4965-aed9-b90a01c612ee"
      },
      "execution_count": null,
      "outputs": [
        {
          "output_type": "execute_result",
          "data": {
            "text/plain": [
              "7"
            ]
          },
          "metadata": {},
          "execution_count": 17
        }
      ]
    },
    {
      "cell_type": "code",
      "source": [
        "ar.min() # gives minimum value of the Matrix"
      ],
      "metadata": {
        "colab": {
          "base_uri": "https://localhost:8080/"
        },
        "id": "VARbRoKSwMd5",
        "outputId": "7370b3c1-9788-4d93-eb32-b1939cde6e22"
      },
      "execution_count": null,
      "outputs": [
        {
          "output_type": "execute_result",
          "data": {
            "text/plain": [
              "0"
            ]
          },
          "metadata": {},
          "execution_count": 16
        }
      ]
    },
    {
      "cell_type": "code",
      "source": [
        "np.where(ar>5) # checks the condition where matrix greater than 5. {output syntax [rows,column]}."
      ],
      "metadata": {
        "colab": {
          "base_uri": "https://localhost:8080/"
        },
        "id": "paH7PO96wksx",
        "outputId": "b7002a5b-d303-4e31-d031-ce4c2d36f05d"
      },
      "execution_count": null,
      "outputs": [
        {
          "output_type": "execute_result",
          "data": {
            "text/plain": [
              "(array([1, 2]), array([2, 0]))"
            ]
          },
          "metadata": {},
          "execution_count": 19
        }
      ]
    },
    {
      "cell_type": "code",
      "source": [
        "np.count_nonzero(ar) # returns how many NON-ZERO are there in the array"
      ],
      "metadata": {
        "colab": {
          "base_uri": "https://localhost:8080/"
        },
        "id": "1m1R12dVyI4u",
        "outputId": "9e001ff8-9092-4fc7-989e-363d1213d1ec"
      },
      "execution_count": null,
      "outputs": [
        {
          "output_type": "execute_result",
          "data": {
            "text/plain": [
              "8"
            ]
          },
          "metadata": {},
          "execution_count": 20
        }
      ]
    },
    {
      "cell_type": "code",
      "source": [
        "x = np.array([1, 2, 3])\n",
        "y = np.array([3, 2, 1])\n",
        "np.concatenate([x, y])  # concatenate of arrays "
      ],
      "metadata": {
        "colab": {
          "base_uri": "https://localhost:8080/"
        },
        "id": "yNKVSIHgWDXq",
        "outputId": "3f742d5d-6df1-42b5-85c3-506286986dff"
      },
      "execution_count": null,
      "outputs": [
        {
          "output_type": "execute_result",
          "data": {
            "text/plain": [
              "array([1, 2, 3, 3, 2, 1])"
            ]
          },
          "metadata": {},
          "execution_count": 9
        }
      ]
    },
    {
      "cell_type": "code",
      "source": [
        "# concatenate along the second axis (zero-indexed)\n",
        "grid = np.array([[1, 2, 3],\n",
        "                 [4, 5, 6]])\n",
        "np.concatenate([grid, grid], axis=1)"
      ],
      "metadata": {
        "colab": {
          "base_uri": "https://localhost:8080/"
        },
        "id": "uGLk8wK7ak5E",
        "outputId": "c454c864-7570-4c97-a009-bce2c6cde95d"
      },
      "execution_count": null,
      "outputs": [
        {
          "output_type": "execute_result",
          "data": {
            "text/plain": [
              "array([[1, 2, 3, 1, 2, 3],\n",
              "       [4, 5, 6, 4, 5, 6]])"
            ]
          },
          "metadata": {},
          "execution_count": 11
        }
      ]
    },
    {
      "cell_type": "code",
      "execution_count": null,
      "metadata": {
        "id": "e7do9MgZZ-ha",
        "outputId": "60d6a5a7-c7ae-414f-926c-4082cdbcb94d",
        "colab": {
          "base_uri": "https://localhost:8080/"
        }
      },
      "outputs": [
        {
          "output_type": "execute_result",
          "data": {
            "text/plain": [
              "array([[1, 2, 3],\n",
              "       [9, 8, 7],\n",
              "       [6, 5, 4]])"
            ]
          },
          "metadata": {},
          "execution_count": 12
        }
      ],
      "source": [
        "x = np.array([1, 2, 3])    \n",
        "grid = np.array([[9, 8, 7],\n",
        "                 [6, 5, 4]])\n",
        "\n",
        "# vertically stack the arrays\n",
        "np.vstack([x, grid])"
      ]
    },
    {
      "cell_type": "code",
      "execution_count": null,
      "metadata": {
        "id": "opB91hjYZ-ha",
        "outputId": "87050d47-278b-4283-d8fe-04043eb67409"
      },
      "outputs": [
        {
          "data": {
            "text/plain": [
              "array([[ 9,  8,  7, 99],\n",
              "       [ 6,  5,  4, 99]])"
            ]
          },
          "execution_count": 49,
          "metadata": {},
          "output_type": "execute_result"
        }
      ],
      "source": [
        "# horizontally stack the arrays\n",
        "y = np.array([[99],\n",
        "              [99]])\n",
        "np.hstack([grid, y])"
      ]
    },
    {
      "cell_type": "code",
      "source": [
        "x = np.array([1,2,3])\n",
        "x.ndim"
      ],
      "metadata": {
        "colab": {
          "base_uri": "https://localhost:8080/"
        },
        "id": "RGjVi-AJcjAv",
        "outputId": "a9052216-7c85-4e91-ed1f-7ba176abe1b2"
      },
      "execution_count": null,
      "outputs": [
        {
          "output_type": "execute_result",
          "data": {
            "text/plain": [
              "1"
            ]
          },
          "metadata": {},
          "execution_count": 18
        }
      ]
    },
    {
      "cell_type": "code",
      "source": [
        "x.reshape([1,3])\n",
        "x.ndim"
      ],
      "metadata": {
        "colab": {
          "base_uri": "https://localhost:8080/"
        },
        "id": "gzQ8upvFcyPp",
        "outputId": "e7139cc5-988d-4669-9a7d-7251cfba87ea"
      },
      "execution_count": null,
      "outputs": [
        {
          "output_type": "execute_result",
          "data": {
            "text/plain": [
              "1"
            ]
          },
          "metadata": {},
          "execution_count": 17
        }
      ]
    },
    {
      "cell_type": "code",
      "source": [
        "import numpy as np\n",
        " \n",
        "# creating a numpy array\n",
        "array = np.array([1, 2, 3, 4, 5, 6, 7, 8, 9, 10, 11, 12, 13, 14, 15, 16])\n",
        " \n",
        "# printing array\n",
        "print(\"Array : \" + str(array))\n",
        " \n",
        "# length of array\n",
        "n = array.size\n",
        " \n",
        "# N-D array N dimension\n",
        "N = 4\n",
        " \n",
        "# calculating M\n",
        "M = n//N\n",
        " \n",
        "# reshaping numpy array\n",
        "# converting it to 2-D from 1-D array\n",
        "reshaped1 = array.reshape((N, M))\n",
        " \n",
        "# printing reshaped array\n",
        "print(\"First Reshaped Array : \")\n",
        "print(reshaped1)\n",
        " \n",
        "# creating another reshaped array\n",
        "reshaped2 = np.reshape(array, (2, 8))\n",
        " \n",
        "# printing reshaped array\n",
        "print(\"Second Reshaped Array : \")\n",
        "print(reshaped2)"
      ],
      "metadata": {
        "colab": {
          "base_uri": "https://localhost:8080/"
        },
        "id": "vBOSiQOtdduO",
        "outputId": "9f0ccb38-a6f3-4a9e-a4d0-914e146f4b00"
      },
      "execution_count": null,
      "outputs": [
        {
          "output_type": "stream",
          "name": "stdout",
          "text": [
            "Array : [ 1  2  3  4  5  6  7  8  9 10 11 12 13 14 15 16]\n",
            "First Reshaped Array : \n",
            "[[ 1  2  3  4]\n",
            " [ 5  6  7  8]\n",
            " [ 9 10 11 12]\n",
            " [13 14 15 16]]\n",
            "Second Reshaped Array : \n",
            "[[ 1  2  3  4  5  6  7  8]\n",
            " [ 9 10 11 12 13 14 15 16]]\n"
          ]
        }
      ]
    },
    {
      "cell_type": "markdown",
      "source": [
        "NUMPY DATA TYPES"
      ],
      "metadata": {
        "id": "Uq8WMZyKWtDf"
      }
    },
    {
      "cell_type": "code",
      "source": [
        "type(4)"
      ],
      "metadata": {
        "colab": {
          "base_uri": "https://localhost:8080/"
        },
        "id": "GTNnchWgPJhc",
        "outputId": "1d765201-ce29-4e2b-dc75-646e2da15eda"
      },
      "execution_count": null,
      "outputs": [
        {
          "output_type": "execute_result",
          "data": {
            "text/plain": [
              "int"
            ]
          },
          "metadata": {},
          "execution_count": 5
        }
      ]
    },
    {
      "cell_type": "code",
      "source": [
        "type(4.0)"
      ],
      "metadata": {
        "colab": {
          "base_uri": "https://localhost:8080/"
        },
        "id": "YYw0JBViXG6Y",
        "outputId": "279004e6-e446-41ef-be77-7391f96ae33c"
      },
      "execution_count": null,
      "outputs": [
        {
          "output_type": "execute_result",
          "data": {
            "text/plain": [
              "float"
            ]
          },
          "metadata": {},
          "execution_count": 7
        }
      ]
    },
    {
      "cell_type": "code",
      "source": [
        "type(\"hello\")"
      ],
      "metadata": {
        "colab": {
          "base_uri": "https://localhost:8080/"
        },
        "id": "a1WIGCTDXJAc",
        "outputId": "5d5cebec-f257-4cf1-cac3-c9e0f50fba4c"
      },
      "execution_count": null,
      "outputs": [
        {
          "output_type": "execute_result",
          "data": {
            "text/plain": [
              "str"
            ]
          },
          "metadata": {},
          "execution_count": 9
        }
      ]
    },
    {
      "cell_type": "markdown",
      "source": [
        "Date and Time \n",
        "\n"
      ],
      "metadata": {
        "id": "rwTaqh1qZwkn"
      }
    },
    {
      "cell_type": "code",
      "source": [
        "import datetime\n",
        "datetime_example = datetime.datetime.now()\n",
        "print(datetime_example)"
      ],
      "metadata": {
        "colab": {
          "base_uri": "https://localhost:8080/"
        },
        "id": "T3alCJy-XMyK",
        "outputId": "ab6a4932-e76f-4d7f-fc14-11de143eb7aa"
      },
      "execution_count": null,
      "outputs": [
        {
          "output_type": "stream",
          "name": "stdout",
          "text": [
            "2021-12-19 06:24:44.896649\n"
          ]
        }
      ]
    },
    {
      "cell_type": "code",
      "source": [
        "# import numpy\n",
        "import numpy as np\n",
        "  \n",
        "# using numpy.datetime64() method\n",
        "gfg = np.array(np.datetime64('2019-08-26'))\n",
        "  \n",
        "print(gfg) # In this example we can see that by using numpy.datetime64() method, we are able to get the date in the particular format i.e yyyy-mm-dd.\n"
      ],
      "metadata": {
        "colab": {
          "base_uri": "https://localhost:8080/"
        },
        "id": "r9pmQ213YDxW",
        "outputId": "aff021d0-0d1e-4bd0-9490-1810f87a1b6f"
      },
      "execution_count": null,
      "outputs": [
        {
          "output_type": "stream",
          "name": "stdout",
          "text": [
            "2019-08-26\n"
          ]
        }
      ]
    },
    {
      "cell_type": "code",
      "source": [
        "array_1d = np.array([1, 2, 3, 4, 5, 6, 7])\n",
        "print (array_1d)"
      ],
      "metadata": {
        "colab": {
          "base_uri": "https://localhost:8080/"
        },
        "id": "6QPj75Z2YK7k",
        "outputId": "92616654-1367-4063-b42c-35635c5154cb"
      },
      "execution_count": null,
      "outputs": [
        {
          "output_type": "stream",
          "name": "stdout",
          "text": [
            "[1 2 3 4 5 6 7]\n"
          ]
        }
      ]
    },
    {
      "cell_type": "code",
      "source": [
        "#because we have 1D array, we need only one index to access element at any position\n",
        "#call the value at index 2\n",
        "print ('element at index 2: ', array_1d[2])\n",
        "\n",
        "#ndarrays are mutable, here we change an element at index 2 \n",
        "array_1d[2] = 10\n",
        "print ('element at index 2 after change: ', array_1d[2])"
      ],
      "metadata": {
        "colab": {
          "base_uri": "https://localhost:8080/"
        },
        "id": "5ozqcE6kYmPV",
        "outputId": "177c64f5-a753-4595-cd18-5c10cb41a085"
      },
      "execution_count": null,
      "outputs": [
        {
          "output_type": "stream",
          "name": "stdout",
          "text": [
            "element at index 2:  3\n",
            "element at index 2 after change:  10\n"
          ]
        }
      ]
    }
  ]
}